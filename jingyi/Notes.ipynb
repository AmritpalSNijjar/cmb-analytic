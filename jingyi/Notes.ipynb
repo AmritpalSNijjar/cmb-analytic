{
 "cells": [
  {
   "cell_type": "code",
   "execution_count": 2,
   "id": "dce4931a",
   "metadata": {},
   "outputs": [],
   "source": [
    "import math"
   ]
  },
  {
   "cell_type": "markdown",
   "id": "54f86726",
   "metadata": {},
   "source": [
    "$\\frac{H^2}{H_0^2}=\\Omega_ra^{-4}+\\Omega_ma^{-3}+\\Omega_ka^{-2}+\\Omega_{\\Lambda}$"
   ]
  },
  {
   "cell_type": "markdown",
   "id": "b58510e0",
   "metadata": {},
   "source": [
    "$H(a)=H_0\\sqrt{\\Omega_ra^{-4}+\\Omega_ma^{-3}+\\Omega_ka^{-2}+\\Omega_{\\Lambda}}$"
   ]
  },
  {
   "cell_type": "markdown",
   "id": "ea4592ee",
   "metadata": {},
   "source": [
    "## $\\Omega_r$"
   ]
  },
  {
   "cell_type": "markdown",
   "id": "3f7d4e82",
   "metadata": {},
   "source": [
    "$\\Omega_r=a_{eq}\\Omega_m$, $a_{eq}\\approx3400^{-1}$"
   ]
  },
  {
   "cell_type": "code",
   "execution_count": null,
   "id": "de2b00b9",
   "metadata": {},
   "outputs": [],
   "source": [
    "aeq = 1 / 3400\n",
    "omr = aeq * omm"
   ]
  },
  {
   "cell_type": "markdown",
   "id": "f01642fc",
   "metadata": {},
   "source": [
    "## $\\Omega_m$"
   ]
  },
  {
   "cell_type": "markdown",
   "id": "82f8411b",
   "metadata": {},
   "source": [
    "$\\Omega_m = \\Omega_b+\\Omega_c$"
   ]
  },
  {
   "cell_type": "code",
   "execution_count": null,
   "id": "5f907c7a",
   "metadata": {},
   "outputs": [],
   "source": [
    "omm = (ombh2 + omch2) / h**2"
   ]
  },
  {
   "cell_type": "markdown",
   "id": "9a063615",
   "metadata": {},
   "source": [
    "## $\\Omega_k\\approx0$"
   ]
  },
  {
   "cell_type": "markdown",
   "id": "0e43bec7",
   "metadata": {},
   "source": [
    "## $\\Omega_\\Lambda$"
   ]
  },
  {
   "cell_type": "markdown",
   "id": "d0c1a751",
   "metadata": {},
   "source": [
    "$\\Omega_{\\Lambda} = 1 - \\Omega_r - \\Omega_m$"
   ]
  },
  {
   "cell_type": "code",
   "execution_count": null,
   "id": "8d6e414b",
   "metadata": {},
   "outputs": [],
   "source": [
    "omlamb = 1 - omm - omr"
   ]
  },
  {
   "cell_type": "markdown",
   "id": "3e9e8540",
   "metadata": {},
   "source": [
    "##  H(a)"
   ]
  },
  {
   "cell_type": "code",
   "execution_count": null,
   "id": "7db350e9",
   "metadata": {},
   "outputs": [],
   "source": [
    "H(a) = H0 * sqrt()"
   ]
  },
  {
   "cell_type": "markdown",
   "id": "1c22a730",
   "metadata": {},
   "source": [
    "##  Compare quad & trapezoid"
   ]
  },
  {
   "cell_type": "code",
   "execution_count": 43,
   "id": "4719862d",
   "metadata": {},
   "outputs": [],
   "source": [
    "import numpy as np\n",
    "from scipy.integrate import quad, trapezoid\n",
    "import time\n",
    "import matplotlib.pyplot as plt\n",
    "from scipy.optimize import curve_fit\n",
    "\n",
    "def f(a):\n",
    "    return a**(-1.5)\n",
    "\n",
    "a_min = 1e-4\n",
    "a_max = 1.0"
   ]
  },
  {
   "cell_type": "markdown",
   "id": "dc45db35",
   "metadata": {},
   "source": [
    "### quad"
   ]
  },
  {
   "cell_type": "code",
   "execution_count": 8,
   "id": "473efd9c",
   "metadata": {},
   "outputs": [
    {
     "name": "stdout",
     "output_type": "stream",
     "text": [
      "quad:198.000000, time: 0.000330 sec\n"
     ]
    }
   ],
   "source": [
    "start_quad = time.time()\n",
    "f_result = quad(f, a_min, a_max)[0]\n",
    "end_quad = time.time()\n",
    "print(f\"quad:{f_result:.6f}, time: {end_quad - start_quad:.6f} sec\")"
   ]
  },
  {
   "cell_type": "markdown",
   "id": "a2b2fe54",
   "metadata": {},
   "source": [
    "### trapezoid"
   ]
  },
  {
   "cell_type": "code",
   "execution_count": 9,
   "id": "02d8b5f8",
   "metadata": {},
   "outputs": [
    {
     "name": "stdout",
     "output_type": "stream",
     "text": [
      "trapezoid(N=100): 5073.797890, time: 0.000393 sec\n",
      "trapezoid(N=1000): 575.270189, time: 0.000300 sec\n",
      "trapezoid(N=10000): 209.237535, time: 0.000276 sec\n",
      "trapezoid(N=50000): 198.497070, time: 0.002703 sec\n",
      "trapezoid(N=70000): 198.254308, time: 0.000333 sec\n",
      "trapezoid(N=100000): 198.124796, time: 0.000309 sec\n",
      "trapezoid(N=125000): 198.079911, time: 0.000250 sec\n",
      "trapezoid(N=150000): 198.055509, time: 0.000288 sec\n",
      "trapezoid(N=160000): 198.048791, time: 0.000253 sec\n"
     ]
    }
   ],
   "source": [
    "integrate_length = [100, 1000, 10000, 50000, 70000, 100000, 125000, 150000, 160000]\n",
    "int_result = []\n",
    "for N in integrate_length:\n",
    "    x = np.linspace(a_min, a_max, N)\n",
    "    y = np.array([f(a) for a in x])\n",
    "    start_trap = time.time()\n",
    "    result_trap = trapezoid(y, x)\n",
    "    end_trap = time.time()\n",
    "    int_result.append(result_trap)\n",
    "    print(f\"trapezoid(N={N}): {result_trap:.6f}, time: {end_trap - start_trap:.6f} sec\")"
   ]
  },
  {
   "cell_type": "code",
   "execution_count": 10,
   "id": "d2365fa1",
   "metadata": {},
   "outputs": [
    {
     "name": "stdout",
     "output_type": "stream",
     "text": [
      "[24.625241869482323, 1.9054049946058573, 0.05675522660251929, 0.002510453940233231, 0.001284385082033197, 0.000630284522930572, 0.000403590508263897, 0.0002803499219892113, 0.00024642034703255505]\n"
     ]
    }
   ],
   "source": [
    "result_err = []\n",
    "for result in int_result:\n",
    "    item_error = (result - f_result)/f_result\n",
    "    result_err.append(item_error)\n",
    "print(result_err)"
   ]
  },
  {
   "cell_type": "code",
   "execution_count": 46,
   "id": "5a29c7e9",
   "metadata": {},
   "outputs": [
    {
     "data": {
      "image/png": "[encoded data removed]",
      "text/plain": [
       "<Figure size 640x480 with 1 Axes>"
      ]
     },
     "metadata": {},
     "output_type": "display_data"
    }
   ],
   "source": [
    "#x = integrate_length\n",
    "#y = result_err\n",
    "\n",
    "#def fitting_func(x, a, b):\n",
    "#    return a / x + b\n",
    "#popt, pcov = curve_fit(fitting_func, x, y)\n",
    "\n",
    "#x_smooth = np.linspace(min(x), max(x), 300)\n",
    "#y_smooth = fitting_func(x_smooth, *popt)\n",
    "\n",
    "plt.plot(integrate_length, result_err,'bo', label=\"data points\")\n",
    "#plt.plot(x_smooth, y_smooth, 'r-', label='Fit: a/x + b')\n",
    "\n",
    "plt.yscale('log')\n",
    "#plt.ylim(-1, 26)\n",
    "plt.ylabel(\"absolute error\")\n",
    "plt.xlabel(\"steps amount\")\n",
    "plt.grid(True)\n",
    "plt.show()"
   ]
  },
  {
   "cell_type": "code",
   "execution_count": 13,
   "id": "5e4d06f5",
   "metadata": {},
   "outputs": [],
   "source": [
    "result_err_reduced = []"
   ]
  },
  {
   "cell_type": "code",
   "execution_count": 62,
   "id": "97d6bf6b",
   "metadata": {},
   "outputs": [
    {
     "name": "stdout",
     "output_type": "stream",
     "text": [
      "now in N = 100 (1/9)\n",
      "100\n",
      "now in N = 1000 (2/9)\n",
      "the last integral range is over and its error is 2.5757174171303632e-14\n",
      "1000\n",
      "now in N = 10000 (3/9)\n",
      "the last integral range is over and its error is 2.2426505097428162e-13\n",
      "10000\n",
      "now in N = 50000 (4/9)\n",
      "50000\n",
      "now in N = 70000 (5/9)\n",
      "70000\n",
      "now in N = 100000 (6/9)\n",
      "100000\n",
      "now in N = 125000 (7/9)\n",
      "the last integral range is over and its error is 3.1474822748123188e-12\n",
      "125000\n",
      "now in N = 150000 (8/9)\n",
      "150000\n",
      "now in N = 160000 (9/9)\n",
      "the last integral range is over and its error is 2.978728375069295e-12\n",
      "160000\n"
     ]
    }
   ],
   "source": [
    "time_array = [None] * len(integrate_length)\n",
    "i = 0\n",
    "for i, N in enumerate(integrate_length):\n",
    "    time_array[i] = []\n",
    "    \n",
    "    step_length = (a_max - a_min)/N\n",
    "    val_low = a_min\n",
    "    val_up = val_low + step_length\n",
    "    \n",
    "    print(f\"now in N = {N} ({i+1}/{len(integrate_length)})\")\n",
    "    for j in range(N):\n",
    "        if val_up > a_max:\n",
    "            print(f'the last integral range is over and its error is {val_up - a_max}')\n",
    "        \n",
    "        x = np.linspace(val_low, val_up, 2)\n",
    "        y = np.array([f(a) for a in x])\n",
    "            \n",
    "        start_trap = time.time()\n",
    "        item_trap = trapezoid(y, x)\n",
    "        end_trap = time.time()\n",
    "            \n",
    "        time_array[i].append(end_trap - start_trap)\n",
    "            \n",
    "        val_low+= step_length\n",
    "        val_up+= step_length\n",
    "        \n",
    "    print(len(time_array[i]))"
   ]
  }
 ],
 "metadata": {
  "kernelspec": {
   "display_name": "Python 3 (ipykernel)",
   "language": "python",
   "name": "python3"
  },
  "language_info": {
   "codemirror_mode": {
    "name": "ipython",
    "version": 3
   },
   "file_extension": ".py",
   "mimetype": "text/x-python",
   "name": "python",
   "nbconvert_exporter": "python",
   "pygments_lexer": "ipython3",
   "version": "3.11.5"
  }
 },
 "nbformat": 4,
 "nbformat_minor": 5
}
